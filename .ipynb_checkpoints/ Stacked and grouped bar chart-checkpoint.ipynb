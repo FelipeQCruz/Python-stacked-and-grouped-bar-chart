{
 "cells": [
  {
   "cell_type": "code",
   "execution_count": 1,
   "id": "3151f305",
   "metadata": {
    "ExecuteTime": {
     "end_time": "2022-07-08T21:06:21.572859Z",
     "start_time": "2022-07-08T21:06:19.932823Z"
    }
   },
   "outputs": [],
   "source": [
    "import pandas as pd\n",
    "import numpy as np\n",
    "import matplotlib\n",
    "import matplotlib.pyplot as plt\n",
    "import matplotlib.patheffects as path_effects"
   ]
  },
  {
   "cell_type": "code",
   "execution_count": 2,
   "id": "9b174306",
   "metadata": {
    "ExecuteTime": {
     "end_time": "2022-07-08T21:06:21.588819Z",
     "start_time": "2022-07-08T21:06:21.575856Z"
    }
   },
   "outputs": [],
   "source": [
    "df = pd.DataFrame({\n",
    "    'Cycle_1_2020': [2, 4, 8, 1],\n",
    "    'Cycle_1_2021': [2, 2, 5, 9],\n",
    "    'Cycle_2_2020': [0, 5, 5, 7],\n",
    "    'Cycle_2_2021': [3, 1, 9, 6],\n",
    "    'Cycle_3_2020': [0, 5, 5, 7],\n",
    "    'Cycle_3_2021': [3, 1, 9, 6],\n",
    "    'Total issues_2020': [10, 20, 15, 20],\n",
    "    'Total issues_2021': [13, 12, 7, 14],\n",
    "    'Team': ['Team 1', 'Team 2', 'Team 3', 'Team 4']\n",
    "                  })"
   ]
  },
  {
   "cell_type": "code",
   "execution_count": 3,
   "id": "66083900",
   "metadata": {
    "ExecuteTime": {
     "end_time": "2022-07-08T21:06:22.974668Z",
     "start_time": "2022-07-08T21:06:21.599792Z"
    }
   },
   "outputs": [
    {
     "data": {
      "text/html": [
       "<div>\n",
       "<style scoped>\n",
       "    .dataframe tbody tr th:only-of-type {\n",
       "        vertical-align: middle;\n",
       "    }\n",
       "\n",
       "    .dataframe tbody tr th {\n",
       "        vertical-align: top;\n",
       "    }\n",
       "\n",
       "    .dataframe thead th {\n",
       "        text-align: right;\n",
       "    }\n",
       "</style>\n",
       "<table border=\"1\" class=\"dataframe\">\n",
       "  <thead>\n",
       "    <tr style=\"text-align: right;\">\n",
       "      <th></th>\n",
       "      <th>Cycle_1_2020</th>\n",
       "      <th>Cycle_1_2021</th>\n",
       "      <th>Cycle_2_2020</th>\n",
       "      <th>Cycle_2_2021</th>\n",
       "      <th>Cycle_3_2020</th>\n",
       "      <th>Cycle_3_2021</th>\n",
       "      <th>Total issues_2020</th>\n",
       "      <th>Total issues_2021</th>\n",
       "      <th>Team</th>\n",
       "    </tr>\n",
       "  </thead>\n",
       "  <tbody>\n",
       "    <tr>\n",
       "      <th>0</th>\n",
       "      <td>2</td>\n",
       "      <td>2</td>\n",
       "      <td>0</td>\n",
       "      <td>3</td>\n",
       "      <td>0</td>\n",
       "      <td>3</td>\n",
       "      <td>10</td>\n",
       "      <td>13</td>\n",
       "      <td>Team 1</td>\n",
       "    </tr>\n",
       "    <tr>\n",
       "      <th>1</th>\n",
       "      <td>4</td>\n",
       "      <td>2</td>\n",
       "      <td>5</td>\n",
       "      <td>1</td>\n",
       "      <td>5</td>\n",
       "      <td>1</td>\n",
       "      <td>20</td>\n",
       "      <td>12</td>\n",
       "      <td>Team 2</td>\n",
       "    </tr>\n",
       "    <tr>\n",
       "      <th>2</th>\n",
       "      <td>8</td>\n",
       "      <td>5</td>\n",
       "      <td>5</td>\n",
       "      <td>9</td>\n",
       "      <td>5</td>\n",
       "      <td>9</td>\n",
       "      <td>15</td>\n",
       "      <td>7</td>\n",
       "      <td>Team 3</td>\n",
       "    </tr>\n",
       "    <tr>\n",
       "      <th>3</th>\n",
       "      <td>1</td>\n",
       "      <td>9</td>\n",
       "      <td>7</td>\n",
       "      <td>6</td>\n",
       "      <td>7</td>\n",
       "      <td>6</td>\n",
       "      <td>20</td>\n",
       "      <td>14</td>\n",
       "      <td>Team 4</td>\n",
       "    </tr>\n",
       "  </tbody>\n",
       "</table>\n",
       "</div>"
      ],
      "text/plain": [
       "   Cycle_1_2020  Cycle_1_2021  Cycle_2_2020  Cycle_2_2021  Cycle_3_2020  \\\n",
       "0             2             2             0             3             0   \n",
       "1             4             2             5             1             5   \n",
       "2             8             5             5             9             5   \n",
       "3             1             9             7             6             7   \n",
       "\n",
       "   Cycle_3_2021  Total issues_2020  Total issues_2021    Team  \n",
       "0             3                 10                 13  Team 1  \n",
       "1             1                 20                 12  Team 2  \n",
       "2             9                 15                  7  Team 3  \n",
       "3             6                 20                 14  Team 4  "
      ]
     },
     "execution_count": 3,
     "metadata": {},
     "output_type": "execute_result"
    }
   ],
   "source": [
    "df"
   ]
  },
  {
   "cell_type": "code",
   "execution_count": 4,
   "id": "e18eaa65",
   "metadata": {
    "ExecuteTime": {
     "end_time": "2022-07-08T21:06:23.099185Z",
     "start_time": "2022-07-08T21:06:22.980657Z"
    }
   },
   "outputs": [],
   "source": [
    "colors =['Blue', 'Yellow', 'Gray']"
   ]
  },
  {
   "cell_type": "code",
   "execution_count": 5,
   "id": "595b72bd",
   "metadata": {
    "ExecuteTime": {
     "end_time": "2022-07-08T21:06:23.458603Z",
     "start_time": "2022-07-08T21:06:23.101181Z"
    }
   },
   "outputs": [],
   "source": [
    "def grafico_barra_empilhada_agrupada(df, column_y, titulo='', des_h = 2, des_v = 0.25):\n",
    "    \n",
    "    df = df.sort_values(by = column_y, ascending = False)\n",
    "    columns = ['Cycle_1', 'Cycle_2', 'Cycle_3']\n",
    "    \n",
    "    x = np.arange(df.index.unique().size)\n",
    "    \n",
    "    width = 0.3\n",
    "    \n",
    "    fix, ax = plt.subplots()\n",
    "    \n",
    "    labels = []\n",
    "    \n",
    "    index = 2020\n",
    "    \n",
    "    for i in range(len(columns)):\n",
    "        if i == 0:\n",
    "            ax.barh(x+width/2, df[f'{columns[i]}_{index}'], width,\n",
    "                   label = columns[i], color = colors[i])\n",
    "            left = df[f'{columns[i]}_{index}']\n",
    "        else:\n",
    "            ax.barh(x+width/2, df[f'{columns[i]}_{index}'], width, \n",
    "                   left = left, label = columns[i], color = colors[i])\n",
    "            left = left + df[f'{columns[i]}_{index}']\n",
    "    insert_labels(plt, df, index, column_y, des_h, des_v=-0.1)\n",
    "            \n",
    "    index = 2021\n",
    "    \n",
    "    for i in range(len(columns)):\n",
    "        if i == 0:\n",
    "            ax.barh(x-width/2, df[f'{columns[i]}_{index}'], width,\n",
    "                   color = colors[i])\n",
    "            left = df[f'{columns[i]}_{index}']\n",
    "        else:\n",
    "            ax.barh(x-width/2, df[f'{columns[i]}_{index}'], width,\n",
    "                   left = left, color = colors[i])\n",
    "            left = left + df[f'{columns[i]}_{index}']\n",
    "    insert_labels(plt, df, index, column_y, des_h, des_v)\n",
    "            \n",
    "    ax.set_yticks(np.arange(len(df[column_y])))\n",
    "    \n",
    "    ax.set_yticklabels(df[column_y], fontsize = 15)\n",
    "    \n",
    "    ax.legend()\n",
    "    \n",
    "    plt.box(False)\n",
    "    \n",
    "    plt.show()"
   ]
  },
  {
   "cell_type": "code",
   "execution_count": 6,
   "id": "d187ce57",
   "metadata": {
    "ExecuteTime": {
     "end_time": "2022-07-08T21:06:23.914202Z",
     "start_time": "2022-07-08T21:06:23.461599Z"
    }
   },
   "outputs": [],
   "source": [
    "def insert_labels(ax, df, index, column_y, des_h, des_v):\n",
    "    columns = df[f'{column_y}'].unique()\n",
    "    df[f'Sum_{index}'] = df[f'Cycle_1_{index}'] + df[f'Cycle_2_{index}'] + df[f'Cycle_3_{index}']\n",
    "    df = df[[f'{column_y}', f'Total issues_{index}', f'Sum_{index}']]\n",
    "    labels = df[f'Total issues_{index}'].apply(lambda x: int(x))\n",
    "    \n",
    "    for column, label in zip(range(len(columns)), labels):\n",
    "        ax.text(\n",
    "        df.iloc[column][2] + des_h, column - des_v, f'{label} issues', ha = 'center', va = 'bottom', color = 'black'   \n",
    "        ).set_path_effects([\n",
    "            path_effects.Stroke(linewidth=1, foreground = 'white'),\n",
    "            path_effects.Normal()\n",
    "        ])"
   ]
  },
  {
   "cell_type": "code",
   "execution_count": 7,
   "id": "03914f2e",
   "metadata": {
    "ExecuteTime": {
     "end_time": "2022-07-08T21:06:24.833846Z",
     "start_time": "2022-07-08T21:06:23.917066Z"
    }
   },
   "outputs": [
    {
     "data": {
      "image/png": "[encoded data removed]",
      "text/plain": [
       "<Figure size 432x288 with 1 Axes>"
      ]
     },
     "metadata": {
      "needs_background": "light"
     },
     "output_type": "display_data"
    }
   ],
   "source": [
    "grafico_barra_empilhada_agrupada(df, 'Team')"
   ]
  },
  {
   "cell_type": "code",
   "execution_count": null,
   "id": "353fb484",
   "metadata": {},
   "outputs": [],
   "source": []
  },
  {
   "cell_type": "code",
   "execution_count": null,
   "id": "3c4da4d4",
   "metadata": {},
   "outputs": [],
   "source": []
  }
 ],
 "metadata": {
  "kernelspec": {
   "display_name": "Python 3 (ipykernel)",
   "language": "python",
   "name": "python3"
  },
  "language_info": {
   "codemirror_mode": {
    "name": "ipython",
    "version": 3
   },
   "file_extension": ".py",
   "mimetype": "text/x-python",
   "name": "python",
   "nbconvert_exporter": "python",
   "pygments_lexer": "ipython3",
   "version": "3.8.13"
  },
  "toc": {
   "base_numbering": 1,
   "nav_menu": {},
   "number_sections": true,
   "sideBar": true,
   "skip_h1_title": true,
   "title_cell": "Table of Contents",
   "title_sidebar": "Contents",
   "toc_cell": false,
   "toc_position": {},
   "toc_section_display": true,
   "toc_window_display": true
  }
 },
 "nbformat": 4,
 "nbformat_minor": 5
}
